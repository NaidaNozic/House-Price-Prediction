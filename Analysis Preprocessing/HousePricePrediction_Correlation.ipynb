{
 "cells": [
  {
   "metadata": {},
   "cell_type": "markdown",
   "source": [
    "# KDDM1 - House Price Prediction\n",
    "\n",
    "The correlation seems easier to do in python, so we switch the language to do this here."
   ],
   "id": "224dcf8068491d80"
  },
  {
   "metadata": {
    "ExecuteTime": {
     "end_time": "2024-06-06T19:46:25.709452Z",
     "start_time": "2024-06-06T19:46:25.598736Z"
    }
   },
   "cell_type": "code",
   "source": [
    "import pandas as pd\n",
    "from minepy import MINE\n",
    "\n",
    "PATH = \"simple_preprocessed_data_7.csv\"\n",
    "complete_data = pd.read_csv(PATH)"
   ],
   "id": "c8fb1b76157358f4",
   "outputs": [],
   "execution_count": 28
  },
  {
   "metadata": {
    "ExecuteTime": {
     "end_time": "2024-06-06T19:46:30.891412Z",
     "start_time": "2024-06-06T19:46:25.714503Z"
    }
   },
   "cell_type": "code",
   "source": [
    "mine = MINE()\n",
    "mic_matrix = pd.DataFrame(index=complete_data.columns, columns=complete_data.columns)\n",
    "\n",
    "for i in range(len(complete_data.columns)):\n",
    "    for j in range(i, len(complete_data.columns)):\n",
    "        mine.compute_score(complete_data.iloc[:, i], complete_data.iloc[:, j])\n",
    "        mic = mine.mic()\n",
    "        mic_matrix.iloc[i, j] = mic\n",
    "        mic_matrix.iloc[j, i] = mic\n",
    "\n",
    "mic_stacked = mic_matrix.stack()\n",
    "mic_stacked.loc[mic_stacked.index.get_level_values(0) < mic_stacked.index.get_level_values(1)].sort_values(\n",
    "    ascending=False)\n"
   ],
   "id": "fbc121e30a2defb3",
   "outputs": [
    {
     "data": {
      "text/plain": [
       "PoolQuality       SquareFootageGarden    0.852385\n",
       "HeatingCosts      SquareFootageHouse     0.341288\n",
       "Location          Price                  0.321912\n",
       "HeatingCosts      HeatingType            0.294607\n",
       "Price             SquareFootageHouse     0.277127\n",
       "                                           ...   \n",
       "HasFireplace      KitchensQuality        0.000217\n",
       "BathroomsQuality  IsFurnished            0.000069\n",
       "HasFireplace      HeatingType            0.000036\n",
       "HasFiberglass     HasFireplace           0.000032\n",
       "                  IsFurnished            0.000001\n",
       "Length: 231, dtype: object"
      ]
     },
     "execution_count": 29,
     "metadata": {},
     "output_type": "execute_result"
    }
   ],
   "execution_count": 29
  },
  {
   "metadata": {
    "ExecuteTime": {
     "end_time": "2024-06-06T19:46:30.905455Z",
     "start_time": "2024-06-06T19:46:30.893200Z"
    }
   },
   "cell_type": "code",
   "source": [
    "pearson_correlation = complete_data.corr(method='pearson')\n",
    "stacked_pearson_correlation = pearson_correlation.stack()\n",
    "stacked_pearson_correlation.loc[\n",
    "    stacked_pearson_correlation.index.get_level_values(0) < stacked_pearson_correlation.index.get_level_values(\n",
    "        1)].sort_values(ascending=False)"
   ],
   "id": "60d7ab141379a8b7",
   "outputs": [
    {
     "data": {
      "text/plain": [
       "PoolQuality    SquareFootageGarden    0.986398\n",
       "HeatingCosts   SquareFootageHouse     0.687899\n",
       "Bathrooms      SquareFootageHouse     0.591070\n",
       "Bedrooms       SquareFootageHouse     0.572745\n",
       "Bathrooms      Bedrooms               0.425090\n",
       "                                        ...   \n",
       "Age            BedroomsQuality       -0.065777\n",
       "Bathrooms      HasPhotovoltaics      -0.068695\n",
       "Age            BathroomsQuality      -0.073732\n",
       "HasFiberglass  PreviousOwnerRating   -0.084890\n",
       "HouseColor     PreviousOwnerRating   -0.340979\n",
       "Length: 231, dtype: float64"
      ]
     },
     "execution_count": 30,
     "metadata": {},
     "output_type": "execute_result"
    }
   ],
   "execution_count": 30
  },
  {
   "metadata": {
    "ExecuteTime": {
     "end_time": "2024-06-06T19:46:31.013230Z",
     "start_time": "2024-06-06T19:46:30.907295Z"
    }
   },
   "cell_type": "code",
   "source": [
    "kendall_correlation = complete_data.corr(method='kendall')\n",
    "stacked_kendall_correlation = kendall_correlation.stack()\n",
    "stacked_kendall_correlation.loc[\n",
    "    stacked_kendall_correlation.index.get_level_values(0) < stacked_kendall_correlation.index.get_level_values(\n",
    "        1)].sort_values(ascending=False)"
   ],
   "id": "cbda2c0d33b91b47",
   "outputs": [
    {
     "data": {
      "text/plain": [
       "PoolQuality    SquareFootageGarden    1.000000\n",
       "HeatingCosts   SquareFootageHouse     0.568447\n",
       "Location       Price                  0.535824\n",
       "Bathrooms      SquareFootageHouse     0.492957\n",
       "Bedrooms       SquareFootageHouse     0.477654\n",
       "                                        ...   \n",
       "PoolQuality    WindowModelNames      -0.055497\n",
       "HeatingType    WindowModelNames      -0.057836\n",
       "HasFiberglass  PreviousOwnerRating   -0.066236\n",
       "Bathrooms      HasPhotovoltaics      -0.069530\n",
       "HouseColor     PreviousOwnerRating   -0.219235\n",
       "Length: 231, dtype: float64"
      ]
     },
     "execution_count": 31,
     "metadata": {},
     "output_type": "execute_result"
    }
   ],
   "execution_count": 31
  },
  {
   "metadata": {
    "ExecuteTime": {
     "end_time": "2024-06-06T19:46:31.043020Z",
     "start_time": "2024-06-06T19:46:31.015433Z"
    }
   },
   "cell_type": "code",
   "source": [
    "spearman_correlation = complete_data.corr(method='spearman')\n",
    "stacked_spearman_correlation = spearman_correlation.stack()\n",
    "stacked_spearman_correlation.loc[\n",
    "    stacked_spearman_correlation.index.get_level_values(0) < stacked_spearman_correlation.index.get_level_values(\n",
    "        1)].sort_values(ascending=False)"
   ],
   "id": "ceda718dd4ea07a4",
   "outputs": [
    {
     "data": {
      "text/plain": [
       "PoolQuality    SquareFootageGarden    1.000000\n",
       "HeatingCosts   SquareFootageHouse     0.731819\n",
       "Location       Price                  0.668827\n",
       "Bathrooms      SquareFootageHouse     0.599644\n",
       "Bedrooms       SquareFootageHouse     0.576847\n",
       "                                        ...   \n",
       "HeatingType    WindowModelNames      -0.064759\n",
       "Age            BathroomsQuality      -0.065347\n",
       "Bathrooms      HasPhotovoltaics      -0.073233\n",
       "HasFiberglass  PreviousOwnerRating   -0.080952\n",
       "HouseColor     PreviousOwnerRating   -0.288551\n",
       "Length: 231, dtype: float64"
      ]
     },
     "execution_count": 32,
     "metadata": {},
     "output_type": "execute_result"
    }
   ],
   "execution_count": 32
  }
 ],
 "metadata": {
  "kernelspec": {
   "display_name": "Python 3",
   "language": "python",
   "name": "python3"
  },
  "language_info": {
   "codemirror_mode": {
    "name": "ipython",
    "version": 2
   },
   "file_extension": ".py",
   "mimetype": "text/x-python",
   "name": "python",
   "nbconvert_exporter": "python",
   "pygments_lexer": "ipython2",
   "version": "2.7.6"
  }
 },
 "nbformat": 4,
 "nbformat_minor": 5
}
