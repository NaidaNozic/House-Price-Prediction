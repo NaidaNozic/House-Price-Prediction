{
 "cells": [
  {
   "cell_type": "markdown",
   "id": "224dcf8068491d80",
   "metadata": {},
   "source": [
    "# KDDM1 - House Price Prediction\n",
    "\n",
    "The correlation seems easier to do in python, so we switch the language to do this here."
   ]
  },
  {
   "cell_type": "code",
   "id": "c8fb1b76157358f4",
   "metadata": {
    "ExecuteTime": {
     "end_time": "2024-06-20T20:32:41.503039Z",
     "start_time": "2024-06-20T20:32:39.328846Z"
    }
   },
   "source": [
    "import pandas as pd\n",
    "from minepy import MINE\n",
    "\n",
    "PATH = \"../Data/simple_preprocessed_data_7.csv\"\n",
    "complete_data = pd.read_csv(PATH)"
   ],
   "outputs": [],
   "execution_count": 1
  },
  {
   "cell_type": "code",
   "id": "fbc121e30a2defb3",
   "metadata": {
    "ExecuteTime": {
     "end_time": "2024-06-20T20:32:52.934810Z",
     "start_time": "2024-06-20T20:32:41.523950Z"
    }
   },
   "source": [
    "mine = MINE()\n",
    "mic_matrix = pd.DataFrame(index=complete_data.columns, columns=complete_data.columns)\n",
    "\n",
    "for i in range(len(complete_data.columns)):\n",
    "    for j in range(i, len(complete_data.columns)):\n",
    "        mine.compute_score(complete_data.iloc[:, i], complete_data.iloc[:, j])\n",
    "        mic = mine.mic()\n",
    "        mic_matrix.iloc[i, j] = mic\n",
    "        mic_matrix.iloc[j, i] = mic\n",
    "\n",
    "mic_stacked = mic_matrix.stack()\n",
    "mic_stacked.loc[mic_stacked.index.get_level_values(0) < mic_stacked.index.get_level_values(1)].sort_values(\n",
    "    ascending=False)\n"
   ],
   "outputs": [
    {
     "data": {
      "text/plain": [
       "PoolQuality       SquareFootageGarden    0.861236\n",
       "HeatingCosts      SquareFootageHouse     0.332877\n",
       "Location          Price                  0.326717\n",
       "HeatingCosts      HeatingType            0.295875\n",
       "Price             SquareFootageHouse     0.279763\n",
       "                                           ...   \n",
       "HasFiberglass     LivingRoomsQuality     0.000153\n",
       "BathroomsQuality  IsFurnished            0.000125\n",
       "HasFireplace      HeatingType            0.000039\n",
       "HasFiberglass     HasFireplace           0.000033\n",
       "                  IsFurnished            0.000004\n",
       "Length: 231, dtype: object"
      ]
     },
     "execution_count": 2,
     "metadata": {},
     "output_type": "execute_result"
    }
   ],
   "execution_count": 2
  },
  {
   "cell_type": "code",
   "id": "60d7ab141379a8b7",
   "metadata": {
    "ExecuteTime": {
     "end_time": "2024-06-20T20:32:52.977208Z",
     "start_time": "2024-06-20T20:32:52.938527Z"
    }
   },
   "source": [
    "pearson_correlation = complete_data.corr(method='pearson')\n",
    "stacked_pearson_correlation = pearson_correlation.stack()\n",
    "stacked_pearson_correlation.loc[\n",
    "    stacked_pearson_correlation.index.get_level_values(0) < stacked_pearson_correlation.index.get_level_values(\n",
    "        1)].sort_values(ascending=False)"
   ],
   "outputs": [
    {
     "data": {
      "text/plain": [
       "PoolQuality    SquareFootageGarden    0.986483\n",
       "HeatingCosts   SquareFootageHouse     0.687734\n",
       "Location       Price                  0.667794\n",
       "Bathrooms      SquareFootageHouse     0.592090\n",
       "Bedrooms       SquareFootageHouse     0.572417\n",
       "                                        ...   \n",
       "Age            BedroomsQuality       -0.067611\n",
       "Bathrooms      HasPhotovoltaics      -0.068390\n",
       "Age            BathroomsQuality      -0.072397\n",
       "HasFiberglass  PreviousOwnerRating   -0.093104\n",
       "HouseColor     PreviousOwnerRating   -0.343472\n",
       "Length: 231, dtype: float64"
      ]
     },
     "execution_count": 3,
     "metadata": {},
     "output_type": "execute_result"
    }
   ],
   "execution_count": 3
  },
  {
   "cell_type": "code",
   "id": "cbda2c0d33b91b47",
   "metadata": {
    "ExecuteTime": {
     "end_time": "2024-06-20T20:32:54.606327Z",
     "start_time": "2024-06-20T20:32:52.979862Z"
    }
   },
   "source": [
    "kendall_correlation = complete_data.corr(method='kendall')\n",
    "stacked_kendall_correlation = kendall_correlation.stack()\n",
    "stacked_kendall_correlation.loc[\n",
    "    stacked_kendall_correlation.index.get_level_values(0) < stacked_kendall_correlation.index.get_level_values(\n",
    "        1)].sort_values(ascending=False)"
   ],
   "outputs": [
    {
     "data": {
      "text/plain": [
       "PoolQuality    SquareFootageGarden    1.000000\n",
       "HeatingCosts   SquareFootageHouse     0.569164\n",
       "Location       Price                  0.557203\n",
       "Bathrooms      SquareFootageHouse     0.495273\n",
       "Bedrooms       SquareFootageHouse     0.478292\n",
       "                                        ...   \n",
       "HeatingType    WindowModelNames      -0.056924\n",
       "PoolQuality    WindowModelNames      -0.057256\n",
       "Bathrooms      HasPhotovoltaics      -0.068335\n",
       "HasFiberglass  PreviousOwnerRating   -0.071988\n",
       "HouseColor     PreviousOwnerRating   -0.222220\n",
       "Length: 231, dtype: float64"
      ]
     },
     "execution_count": 4,
     "metadata": {},
     "output_type": "execute_result"
    }
   ],
   "execution_count": 4
  },
  {
   "cell_type": "code",
   "id": "ceda718dd4ea07a4",
   "metadata": {
    "ExecuteTime": {
     "end_time": "2024-06-20T20:32:54.668511Z",
     "start_time": "2024-06-20T20:32:54.609689Z"
    }
   },
   "source": [
    "spearman_correlation = complete_data.corr(method='spearman')\n",
    "stacked_spearman_correlation = spearman_correlation.stack()\n",
    "stacked_spearman_correlation.loc[\n",
    "    stacked_spearman_correlation.index.get_level_values(0) < stacked_spearman_correlation.index.get_level_values(\n",
    "        1)].sort_values(ascending=False)"
   ],
   "outputs": [
    {
     "data": {
      "text/plain": [
       "PoolQuality    SquareFootageGarden    1.000000\n",
       "HeatingCosts   SquareFootageHouse     0.732231\n",
       "Location       Price                  0.694214\n",
       "Bathrooms      SquareFootageHouse     0.602493\n",
       "Bedrooms       SquareFootageHouse     0.577930\n",
       "                                        ...   \n",
       "PoolQuality    WindowModelNames      -0.064110\n",
       "Age            BathroomsQuality      -0.064475\n",
       "Bathrooms      HasPhotovoltaics      -0.072008\n",
       "HasFiberglass  PreviousOwnerRating   -0.087982\n",
       "HouseColor     PreviousOwnerRating   -0.291897\n",
       "Length: 231, dtype: float64"
      ]
     },
     "execution_count": 5,
     "metadata": {},
     "output_type": "execute_result"
    }
   ],
   "execution_count": 5
  }
 ],
 "metadata": {
  "kernelspec": {
   "display_name": "Python 3",
   "language": "python",
   "name": "python3"
  },
  "language_info": {
   "codemirror_mode": {
    "name": "ipython",
    "version": 2
   },
   "file_extension": ".py",
   "mimetype": "text/x-python",
   "name": "python",
   "nbconvert_exporter": "python",
   "pygments_lexer": "ipython2",
   "version": "2.7.6"
  }
 },
 "nbformat": 4,
 "nbformat_minor": 5
}
