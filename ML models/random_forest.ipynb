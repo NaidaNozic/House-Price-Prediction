{
 "cells": [
  {
   "cell_type": "code",
   "execution_count": 1,
   "metadata": {
    "ExecuteTime": {
     "end_time": "2024-06-20T21:07:27.746118Z",
     "start_time": "2024-06-20T20:46:17.529019Z"
    }
   },
   "outputs": [
    {
     "name": "stdout",
     "output_type": "stream",
     "text": [
      "Best hyperparameters: {'max_depth': 10, 'max_features': None, 'min_samples_leaf': 1, 'min_samples_split': 2, 'n_estimators': 300}\n"
     ]
    }
   ],
   "source": [
    "import pandas as pd\n",
    "from sklearn.model_selection import train_test_split, GridSearchCV\n",
    "from sklearn.ensemble import RandomForestRegressor\n",
    "from sklearn.metrics import mean_absolute_error, mean_squared_error, r2_score\n",
    "\n",
    "data = pd.read_csv('../Data/imputed_data_7.csv')\n",
    "\n",
    "X = data.drop(columns=['Price']).values\n",
    "y = data['Price'].values\n",
    "X_train, X_test, y_train, y_test = train_test_split(X, y, test_size=0.2, random_state=13)\n",
    "\n",
    "params = {\n",
    "    \"n_estimators\": [100, 200, 300, 400, 500],\n",
    "    \"max_depth\": [None, 5, 10, 20],\n",
    "    \"min_samples_split\": [2, 5, 10],\n",
    "    \"min_samples_leaf\": [1, 2, 4],\n",
    "    \"max_features\": [None, \"sqrt\", \"log2\"]\n",
    "}\n",
    "\n",
    "rf = RandomForestRegressor(random_state=13)\n",
    "grid_search = GridSearchCV(rf, params, cv=5, scoring='neg_mean_squared_error')\n",
    "grid_search.fit(X_train, y_train)\n",
    "best_params = grid_search.best_params_\n",
    "\n",
    "rf_best = RandomForestRegressor(**best_params, random_state=13)\n",
    "\n",
    "rf_best.fit(X_train, y_train)\n",
    "\n",
    "y_pred = rf_best.predict(X_test)\n",
    "\n",
    "mse = mean_squared_error(y_test, y_pred)\n",
    "rmse = mse ** 0.5\n",
    "\n",
    "mae = mean_absolute_error(y_test, y_pred)\n",
    "\n",
    "r_squared = r2_score(y_test, y_pred)\n",
    "\n",
    "print(\"Best hyperparameters:\", best_params)"
   ]
  },
  {
   "cell_type": "code",
   "execution_count": 1,
   "metadata": {
    "ExecuteTime": {
     "end_time": "2024-06-20T21:07:58.667047Z",
     "start_time": "2024-06-20T21:07:27.747782Z"
    }
   },
   "outputs": [
    {
     "name": "stdout",
     "output_type": "stream",
     "text": [
      "Best hyperparameters: {'max_depth': None, 'max_features': None, 'min_samples_leaf': 1, 'min_samples_split': 2, 'n_estimators': 500}\n",
      "Cross-validated RMSE: 34.40951252269133\n",
      "Mean Cross-validated MAE: 25.788806371203588\n",
      "Mean R-squared from cross-validation: 0.87539644614997\n",
      "MSE: 1052.3284739703015\n"
     ]
    }
   ],
   "source": [
    "import pandas as pd\n",
    "from sklearn.model_selection import train_test_split, cross_val_score\n",
    "from sklearn.ensemble import RandomForestRegressor\n",
    "from sklearn.metrics import mean_absolute_error, mean_squared_error, r2_score\n",
    "\n",
    "data = pd.read_csv('../Data/imputed_data_7.csv')\n",
    "X = data.drop(columns=['Price']).values\n",
    "y = data['Price'].values\n",
    "\n",
    "X_train, X_test, y_train, y_test = train_test_split(X, y, test_size=0.2, random_state=20)\n",
    "\n",
    "best_params = {\n",
    "    'max_depth': None,\n",
    "    'max_features': None,\n",
    "    'min_samples_leaf': 1,\n",
    "    'min_samples_split': 2,\n",
    "    'n_estimators': 500\n",
    "}\n",
    "\n",
    "rf_best = RandomForestRegressor(**best_params, random_state=13)\n",
    "\n",
    "cv_scores = cross_val_score(rf_best, X, y, cv=5, scoring='neg_mean_squared_error')\n",
    "cv_rmse = (-cv_scores) ** 0.5\n",
    "\n",
    "rf_best.fit(X_train, y_train)\n",
    "y_pred = rf_best.predict(X_test)\n",
    "\n",
    "mse = mean_squared_error(y_test, y_pred)\n",
    "rmse = mse ** 0.5\n",
    "mae = mean_absolute_error(y_test, y_pred)\n",
    "r_squared = r2_score(y_test, y_pred)\n",
    "\n",
    "cv_scores_r2 = cross_val_score(rf_best, X, y, cv=5, scoring='r2')\n",
    "cv_r2 = cv_scores_r2.mean()\n",
    "cv_scores_mae = cross_val_score(rf_best, X, y, cv=5, scoring='neg_mean_absolute_error')\n",
    "cv_mae = -cv_scores_mae.mean()\n",
    "\n",
    "print(\"Best hyperparameters:\", best_params)\n",
    "print(\"Cross-validated RMSE:\", cv_rmse.mean())\n",
    "print(\"Mean Cross-validated MAE:\", cv_mae)\n",
    "print(\"Mean R-squared from cross-validation:\", cv_r2)\n",
    "print(\"MSE:\", mse)"
   ]
  }
 ],
 "metadata": {
  "kernelspec": {
   "display_name": "Python 3",
   "language": "python",
   "name": "python3"
  },
  "language_info": {
   "codemirror_mode": {
    "name": "ipython",
    "version": 3
   },
   "file_extension": ".py",
   "mimetype": "text/x-python",
   "name": "python",
   "nbconvert_exporter": "python",
   "pygments_lexer": "ipython3",
   "version": "3.12.0"
  }
 },
 "nbformat": 4,
 "nbformat_minor": 2
}
