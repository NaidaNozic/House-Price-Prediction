{
 "cells": [
  {
   "cell_type": "code",
   "metadata": {
    "ExecuteTime": {
     "end_time": "2024-06-20T20:46:45.876106Z",
     "start_time": "2024-06-20T20:46:20.808688Z"
    }
   },
   "source": [
    "from matplotlib import pyplot as plt\n",
    "import pandas as pd\n",
    "from sklearn.model_selection import GridSearchCV, train_test_split\n",
    "from sklearn.svm import SVR\n",
    "from sklearn.metrics import mean_absolute_error, mean_squared_error, r2_score\n",
    "\n",
    "\n",
    "data = pd.read_csv('../Data/imputed_data_7.csv')\n",
    "X = data.drop(columns=['Price']).values\n",
    "y = data['Price'].values\n",
    "X_train, X_test, y_train, y_test = train_test_split(X, y, test_size=0.2, random_state=13)\n",
    "\n",
    "\n",
    "param_grid = {\n",
    "    'kernel': ['linear', 'rbf'],\n",
    "    'C': [0.1, 1, 10, 100],\n",
    "    'gamma': [0.1, 1, 10],\n",
    "}\n",
    "\n",
    "svr = SVR()\n",
    "grid_search = GridSearchCV(estimator=svr, param_grid=param_grid, cv=5, scoring='neg_mean_squared_error', verbose=1)\n",
    "grid_search.fit(X_train, y_train)\n",
    "\n",
    "best_params = grid_search.best_params_\n",
    "\n",
    "svr_best = SVR(**best_params)\n",
    "\n",
    "svr_best.fit(X_train, y_train)\n",
    "y_pred = svr_best.predict(X_test)\n",
    "\n",
    "mse = mean_squared_error(y_test, y_pred)\n",
    "\n",
    "rmse = mse ** 0.5\n",
    "\n",
    "r_squared = r2_score(y_test, y_pred)\n",
    "\n",
    "mae = mean_absolute_error(y_test, y_pred)\n",
    "\n",
    "print(\"Best hyperparameters:\", best_params)"
   ],
   "outputs": [
    {
     "name": "stdout",
     "output_type": "stream",
     "text": [
      "Fitting 5 folds for each of 24 candidates, totalling 120 fits\n",
      "Best hyperparameters: {'C': 0.1, 'gamma': 0.1, 'kernel': 'linear'}\n"
     ]
    }
   ],
   "execution_count": 1
  },
  {
   "cell_type": "code",
   "metadata": {
    "ExecuteTime": {
     "end_time": "2024-06-20T20:46:47.225069Z",
     "start_time": "2024-06-20T20:46:45.878759Z"
    }
   },
   "source": [
    "from matplotlib import pyplot as plt\n",
    "import pandas as pd\n",
    "from sklearn.model_selection import cross_val_score, train_test_split\n",
    "from sklearn.svm import SVR\n",
    "from sklearn.metrics import mean_absolute_error, mean_squared_error, r2_score\n",
    "\n",
    "data = pd.read_csv('../Data/imputed_data_7.csv')\n",
    "X = data.drop(columns=['Price']).values\n",
    "y = data['Price'].values\n",
    "\n",
    "X_train, X_test, y_train, y_test = train_test_split(X, y, test_size=0.2, random_state=13)\n",
    "\n",
    "# We are going to run train the SVR model with the best hyperparameters we found above.\n",
    "best_params = {'C': 0.1, 'gamma': 0.1, 'kernel': 'linear'}\n",
    "svr_best = SVR(**best_params)\n",
    "\n",
    "# Cross validation will be used to evaluate the performance of the model\n",
    "cv_scores = cross_val_score(svr_best, X_train, y_train, cv=5, scoring='neg_mean_squared_error')\n",
    "svr_best.fit(X_train, y_train)\n",
    "y_pred = svr_best.predict(X_test)\n",
    "\n",
    "mse = mean_squared_error(y_test, y_pred)\n",
    "rmse = mse ** 0.5\n",
    "r_squared = r2_score(y_test, y_pred)\n",
    "mae = mean_absolute_error(y_test, y_pred)\n",
    "\n",
    "print(\"Best hyperparameters:\", best_params)\n",
    "print(f\"Cross-validation scores (MSE): {-cv_scores}\")\n",
    "print(f\"Mean cross-validation score (MSE): {(-cv_scores).mean()}\")\n",
    "print(f\"Test set RMSE: {rmse}\")\n",
    "print(f\"Test set R-squared: {r_squared}\")\n",
    "print(f\"Test set MAE: {mae}\")"
   ],
   "outputs": [
    {
     "name": "stdout",
     "output_type": "stream",
     "text": [
      "Best hyperparameters: {'C': 0.1, 'gamma': 0.1, 'kernel': 'linear'}\n",
      "Cross-validation scores (MSE): [4481.57925507 4489.17537518 3172.64229951 3499.50540288 4286.31921088]\n",
      "Mean cross-validation score (MSE): 3985.844308704858\n",
      "Test set RMSE: 66.00592947371612\n",
      "Test set R-squared: 0.5872200797266235\n",
      "Test set MAE: 50.6782792149458\n"
     ]
    }
   ],
   "execution_count": 2
  }
 ],
 "metadata": {
  "kernelspec": {
   "display_name": "Python 3",
   "language": "python",
   "name": "python3"
  },
  "language_info": {
   "codemirror_mode": {
    "name": "ipython",
    "version": 3
   },
   "file_extension": ".py",
   "mimetype": "text/x-python",
   "name": "python",
   "nbconvert_exporter": "python",
   "pygments_lexer": "ipython3",
   "version": "3.12.0"
  }
 },
 "nbformat": 4,
 "nbformat_minor": 2
}
