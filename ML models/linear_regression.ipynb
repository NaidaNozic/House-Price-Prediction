{
 "cells": [
  {
   "cell_type": "code",
   "metadata": {
    "ExecuteTime": {
     "end_time": "2024-06-20T20:46:11.121112Z",
     "start_time": "2024-06-20T20:46:10.417559Z"
    }
   },
   "source": [
    "import pandas as pd\n",
    "from sklearn.linear_model import LinearRegression\n",
    "from sklearn.model_selection import train_test_split\n",
    "from sklearn.metrics import mean_squared_error, mean_absolute_error, r2_score\n",
    "import numpy as np\n",
    "from sklearn.metrics import r2_score\n",
    "\n",
    "data = pd.read_csv('../Data/imputed_data_7.csv')\n",
    "X = data.drop(columns=['Price']).values\n",
    "y = data['Price'].values\n",
    "\n",
    "X_train, X_test, y_train, y_test = train_test_split(X, y, test_size=0.2, random_state=13)\n",
    "\n",
    "model = LinearRegression()\n",
    "model.fit(X_train, y_train)\n",
    "\n",
    "y_pred = model.predict(X_test)\n",
    "\n",
    "mse = mean_squared_error(y_test, y_pred)\n",
    "mae = mean_absolute_error(y_test, y_pred)\n",
    "\n",
    "rmse = np.sqrt(mse)\n",
    "r2 = r2_score(y_test, y_pred)\n",
    "\n",
    "print(f'MSE: {mse}')\n",
    "print(f'MAE: {mae}')\n",
    "print(f'RMSE: {rmse}')\n",
    "print(f'R2 Score: {r2}\\n')\n",
    "\n",
    "results = pd.DataFrame({\n",
    "    'Predicted Price': y_pred,\n",
    "    'Actual Price': y_test\n",
    "})\n",
    "\n",
    "print(\"Predicted vs. Actual Prices:\")\n",
    "print(results)"
   ],
   "outputs": [
    {
     "name": "stdout",
     "output_type": "stream",
     "text": [
      "MSE: 2390.6094943430903\n",
      "MAE: 39.54899083033774\n",
      "RMSE: 48.89385947481637\n",
      "R2 Score: 0.7735036014852865\n",
      "\n",
      "Predicted vs. Actual Prices:\n",
      "     Predicted Price  Actual Price\n",
      "0         356.333631     446.34564\n",
      "1         289.419892     244.24278\n",
      "2          33.465839      59.34682\n",
      "3         178.006890     195.40573\n",
      "4         225.159127     219.77459\n",
      "..               ...           ...\n",
      "189       327.099287     272.52810\n",
      "190       334.789410     438.60932\n",
      "191       211.060583     125.01933\n",
      "192       166.351588     182.69432\n",
      "193       100.323794      68.37273\n",
      "\n",
      "[194 rows x 2 columns]\n"
     ]
    }
   ],
   "execution_count": 1
  }
 ],
 "metadata": {
  "kernelspec": {
   "display_name": "Python 3",
   "language": "python",
   "name": "python3"
  },
  "language_info": {
   "codemirror_mode": {
    "name": "ipython",
    "version": 3
   },
   "file_extension": ".py",
   "mimetype": "text/x-python",
   "name": "python",
   "nbconvert_exporter": "python",
   "pygments_lexer": "ipython3",
   "version": "3.12.0"
  }
 },
 "nbformat": 4,
 "nbformat_minor": 2
}
